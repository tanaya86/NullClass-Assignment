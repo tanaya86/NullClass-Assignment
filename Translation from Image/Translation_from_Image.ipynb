{
  "nbformat": 4,
  "nbformat_minor": 0,
  "metadata": {
    "kernelspec": {
      "display_name": "Python 3",
      "language": "python",
      "name": "python3"
    },
    "language_info": {
      "codemirror_mode": {
        "name": "ipython",
        "version": 3
      },
      "file_extension": ".py",
      "mimetype": "text/x-python",
      "name": "python",
      "nbconvert_exporter": "python",
      "pygments_lexer": "ipython3",
      "version": "3.8.0"
    }
  },
  "cells": [
    {
      "cell_type": "code",
      "source": [
        "import numpy as np\n",
        "import pandas as pd\n",
        "import matplotlib.pyplot as plt\n",
        "import seaborn as sns\n",
        "import cv2\n",
        "from PIL import Image\n",
        "import io\n",
        "import base64\n",
        "import time\n",
        "import warnings\n",
        "warnings.filterwarnings('ignore')\n",
        "\n",
        "# Install required packages first\n",
        "try:\n",
        "    import easyocr\n",
        "    from IPython.display import display, clear_output\n",
        "    import ipywidgets as widgets\n",
        "except ImportError:\n",
        "    print(\"Installing required packages...\")\n",
        "    import subprocess\n",
        "    import sys\n",
        "    subprocess.check_call([sys.executable, \"-m\", \"pip\", \"install\", \"opencv-python\", \"pillow\", \"easyocr\", \"matplotlib\", \"ipywidgets\", \"seaborn\", \"pandas\", \"numpy\"])\n",
        "    print(\"Packages installed successfully! Please restart the kernel and run again.\")\n",
        "    exit()\n",
        "\n",
        "class ColabImageTextTranslator:\n",
        "    def __init__(self):\n",
        "        self.setup_translation_dataset()\n",
        "        self.setup_ml_model()\n",
        "        self.setup_gui()\n",
        "        print(\"Translation from Image initialized successfully!\")\n",
        "\n",
        "    def setup_translation_dataset(self):\n",
        "        \"\"\"Load English to French translation dataset from text files\"\"\"\n",
        "        try:\n",
        "            # Read English words from file\n",
        "            with open('_english_.txt', 'r', encoding='utf-8') as f:\n",
        "                english_words = [line.strip().lower() for line in f.readlines() if line.strip()]\n",
        "\n",
        "            # Read French translations from file\n",
        "            with open('_french_.txt', 'r', encoding='utf-8') as f:\n",
        "                french_words = [line.strip() for line in f.readlines() if line.strip()]\n",
        "\n",
        "            # Create translation dictionary\n",
        "            self.translation_dict = {}\n",
        "            for eng, fr in zip(english_words, french_words):\n",
        "                self.translation_dict[eng] = fr\n",
        "\n",
        "            print(f\"Translation dictionary loaded with {len(self.translation_dict)} words from text files\")\n",
        "\n",
        "            # Display sample of loaded words\n",
        "            print(\"Words are loaded:\")\n",
        "            sample_items = list(self.translation_dict.items())[:5]\n",
        "            for eng, fr in sample_items:\n",
        "                print(f\"   {eng} → {fr}\")\n",
        "\n",
        "        except FileNotFoundError as e:\n",
        "            print(f\"Error: Could not find translation files: {e}\")\n",
        "            print(\"Please make sure '_english_.txt' and '_french_.txt' are in the current directory\")\n",
        "            # Fallback to a small default dictionary\n",
        "            self.translation_dict = {\"hello\": \"bonjour\", \"world\": \"monde\"}\n",
        "        except Exception as e:\n",
        "            print(f\"Error loading translation dataset: {e}\")\n",
        "            self.translation_dict = {\"hello\": \"bonjour\", \"world\": \"monde\"}\n",
        "\n",
        "    def setup_ml_model(self):\n",
        "        \"\"\"Setup machine learning model for text recognition\"\"\"\n",
        "        try:\n",
        "            # Initialize EasyOCR reader with error handling\n",
        "            print(\"Initializing EasyOCR reader...\")\n",
        "            self.reader = easyocr.Reader(['en'])\n",
        "            self.model_loaded = True\n",
        "            print(\"ML Text Recognition model ready (EasyOCR)\")\n",
        "        except Exception as e:\n",
        "            print(f\"Error setting up ML model: {e}\")\n",
        "            self.model_loaded = False\n",
        "            self.reader = None\n",
        "\n",
        "    def setup_gui(self):\n",
        "        \"\"\"Setup the GUI using ipywidgets\"\"\"\n",
        "        # Create widgets\n",
        "        self.title = widgets.HTML(\n",
        "            \"<h1 style='color: #2E86AB; text-align: center;'>Translation from Image - English to French</h1>\"\n",
        "        )\n",
        "\n",
        "        # Upload section\n",
        "        self.upload_btn = widgets.FileUpload(\n",
        "            description='Upload Image',\n",
        "            multiple=False,\n",
        "            accept='image/*'\n",
        "        )\n",
        "\n",
        "        # Process buttons\n",
        "        self.extract_btn = widgets.Button(description='Extract Text')\n",
        "        self.translate_btn = widgets.Button(description='Translate')\n",
        "        self.clear_btn = widgets.Button(description='Clear All')\n",
        "\n",
        "        # Analysis buttons\n",
        "        self.stats_btn = widgets.Button(description='Show Analysis')\n",
        "        self.dict_btn = widgets.Button(description='View Dictionary')\n",
        "\n",
        "        # Output areas\n",
        "        self.image_output = widgets.Output()\n",
        "        self.extracted_output = widgets.Output()\n",
        "        self.translated_output = widgets.Output()\n",
        "        self.status_output = widgets.Output()\n",
        "\n",
        "        # Connect events\n",
        "        self.upload_btn.observe(self.on_upload, names='value')\n",
        "        self.extract_btn.on_click(self.on_extract)\n",
        "        self.translate_btn.on_click(self.on_translate)\n",
        "        self.clear_btn.on_click(self.on_clear)\n",
        "        self.stats_btn.on_click(self.on_stats)\n",
        "        self.dict_btn.on_click(self.on_dictionary)\n",
        "\n",
        "        # Layout\n",
        "        button_box1 = widgets.HBox([self.extract_btn, self.translate_btn, self.clear_btn])\n",
        "        button_box2 = widgets.HBox([self.stats_btn, self.dict_btn])\n",
        "\n",
        "        # Display the GUI\n",
        "        display(self.title)\n",
        "        display(widgets.HTML(\"<h3>Upload Image</h3>\"))\n",
        "        display(self.upload_btn)\n",
        "        display(widgets.HTML(\"<h3>Image Preview</h3>\"))\n",
        "        display(self.image_output)\n",
        "        display(widgets.HTML(\"<h3>Processing</h3>\"))\n",
        "        display(button_box1)\n",
        "        display(widgets.HTML(\"<h3>Results</h3>\"))\n",
        "        display(widgets.HTML(\"<h4>Extracted English Text:</h4>\"))\n",
        "        display(self.extracted_output)\n",
        "        display(widgets.HTML(\"<h4>Translated French Text:</h4>\"))\n",
        "        display(self.translated_output)\n",
        "        display(widgets.HTML(\"<h3>Additional Features</h3>\"))\n",
        "        display(button_box2)\n",
        "        display(widgets.HTML(\"<h4>Status:</h4>\"))\n",
        "        display(self.status_output)\n",
        "\n",
        "        # Initialize state\n",
        "        self.current_image = None\n",
        "        self.extracted_english_text = \"\"\n",
        "\n",
        "        with self.status_output:\n",
        "            print(\"Ready! Upload an image to begin...\")\n",
        "            print(f\"Loaded {len(self.translation_dict)} words from your dictionary files\")\n",
        "            if hasattr(self, 'reader') and self.reader:\n",
        "                print(\"Text extraction model: READY\")\n",
        "            else:\n",
        "                print(\"Text extraction model: NOT AVAILABLE\")\n",
        "\n",
        "    def on_upload(self, change):\n",
        "        \"\"\"Handle image upload\"\"\"\n",
        "        if not change['new']:\n",
        "            return\n",
        "\n",
        "        try:\n",
        "            uploaded = list(change['new'].values())[0]\n",
        "            image_data = uploaded['content']\n",
        "            self.current_image = Image.open(io.BytesIO(image_data))\n",
        "\n",
        "            # Display image\n",
        "            self.image_output.clear_output()\n",
        "            with self.image_output:\n",
        "                plt.figure(figsize=(10, 6))\n",
        "                plt.imshow(self.current_image)\n",
        "                plt.axis('off')\n",
        "                plt.title('Uploaded Image')\n",
        "                plt.show()\n",
        "\n",
        "            self.update_status(f\"Image uploaded successfully: {uploaded['name']}\")\n",
        "\n",
        "        except Exception as e:\n",
        "            self.update_status(f\"Error uploading image: {e}\")\n",
        "\n",
        "    def on_extract(self, btn):\n",
        "        \"\"\"Extract text from image\"\"\"\n",
        "        if not self.current_image:\n",
        "            self.update_status(\"Please upload an image first\")\n",
        "            return\n",
        "\n",
        "        if not hasattr(self, 'reader') or self.reader is None:\n",
        "            self.update_status(\"Text extraction model not available.\")\n",
        "            return\n",
        "\n",
        "        try:\n",
        "            self.update_status(\"Extracting text from image...\")\n",
        "            opencv_image = cv2.cvtColor(np.array(self.current_image), cv2.COLOR_RGB2BGR)\n",
        "            results = self.reader.readtext(opencv_image)\n",
        "\n",
        "            extracted_texts = []\n",
        "            for (bbox, text, confidence) in results:\n",
        "                if confidence > 0.3 and self.is_english_text(text):\n",
        "                    extracted_texts.append(text)\n",
        "\n",
        "            self.extracted_english_text = \" \".join(extracted_texts)\n",
        "\n",
        "            self.extracted_output.clear_output()\n",
        "            with self.extracted_output:\n",
        "                if self.extracted_english_text:\n",
        "                    print(\"Extracted Text:\")\n",
        "                    print(\"-\" * 40)\n",
        "                    print(self.extracted_english_text)\n",
        "                    print(f\"\\nFound {len(extracted_texts)} text blocks\")\n",
        "\n",
        "                    words_in_text = self.extracted_english_text.lower().split()\n",
        "                    words_in_dict = [word for word in words_in_text\n",
        "                                   if ''.join(char for char in word if char.isalnum()).lower() in self.translation_dict]\n",
        "                    print(f\"{len(words_in_dict)} words from your dictionary detected\")\n",
        "                else:\n",
        "                    print(\"No English text detected in the image.\")\n",
        "                    print(\"Try images with clear English text\")\n",
        "\n",
        "            if self.extracted_english_text:\n",
        "                self.update_status(f\"Text extracted successfully ({len(extracted_texts)} text blocks)\")\n",
        "            else:\n",
        "                self.update_status(\"No English text detected\")\n",
        "\n",
        "        except Exception as e:\n",
        "            self.update_status(f\"Error extracting text: {e}\")\n",
        "\n",
        "    def on_translate(self, btn):\n",
        "        \"\"\"Translate extracted text to French\"\"\"\n",
        "        if not self.extracted_english_text:\n",
        "            self.update_status(\"Please extract text first\")\n",
        "            return\n",
        "\n",
        "        try:\n",
        "            self.update_status(\"Translating text to French...\")\n",
        "            words = self.extracted_english_text.split()\n",
        "            translated_words = []\n",
        "            translation_details = []\n",
        "\n",
        "            for word in words:\n",
        "                clean_word = ''.join(char for char in word if char.isalnum()).lower()\n",
        "                if clean_word in self.translation_dict:\n",
        "                    translated_words.append(self.translation_dict[clean_word])\n",
        "                    translation_details.append(f\"{word} → {self.translation_dict[clean_word]}\")\n",
        "                else:\n",
        "                    translated_words.append(f\"[{word}]\")\n",
        "                    translation_details.append(f\"{word} → [Not in dictionary]\")\n",
        "\n",
        "            translated_text = \" \".join(translated_words)\n",
        "\n",
        "            self.translated_output.clear_output()\n",
        "            with self.translated_output:\n",
        "                print(\"Translated Text:\")\n",
        "                print(\"-\" * 40)\n",
        "                print(translated_text)\n",
        "\n",
        "                total_words = len(words)\n",
        "                translated_count = len([w for w in translated_words if not w.startswith('[')])\n",
        "                coverage = (translated_count / total_words) * 100 if total_words > 0 else 0\n",
        "\n",
        "                print(f\"\\nTranslation Statistics:\")\n",
        "                print(f\"Coverage: {coverage:.1f}% ({translated_count}/{total_words} words)\")\n",
        "                print(f\"Dictionary size: {len(self.translation_dict)} words\")\n",
        "                print(f\"Untranslated words marked with [brackets]\")\n",
        "\n",
        "                if translation_details:\n",
        "                    print(f\"\\nTranslation Details (first 5 words):\")\n",
        "                    for detail in translation_details[:5]:\n",
        "                        print(f\"  {detail}\")\n",
        "\n",
        "            self.update_status(\"Translation completed successfully\")\n",
        "\n",
        "        except Exception as e:\n",
        "            self.update_status(f\"Error during translation: {e}\")\n",
        "\n",
        "    def on_clear(self, btn):\n",
        "        \"\"\"Clear all outputs\"\"\"\n",
        "        self.current_image = None\n",
        "        self.extracted_english_text = \"\"\n",
        "        self.image_output.clear_output()\n",
        "        self.extracted_output.clear_output()\n",
        "        self.translated_output.clear_output()\n",
        "        self.status_output.clear_output()\n",
        "\n",
        "        with self.status_output:\n",
        "            print(\"All cleared! Upload a new image to begin...\")\n",
        "            print(f\"Dictionary ready with {len(self.translation_dict)} words\")\n",
        "            if hasattr(self, 'reader') and self.reader:\n",
        "                print(\"Text extraction model: READY\")\n",
        "\n",
        "    def on_stats(self, btn):\n",
        "        \"\"\"Show text analysis\"\"\"\n",
        "        if not self.extracted_english_text:\n",
        "            self.update_status(\"No text available for analysis\")\n",
        "            return\n",
        "\n",
        "        self.status_output.clear_output()\n",
        "        with self.status_output:\n",
        "            words = self.extracted_english_text.split()\n",
        "            word_count = len(words)\n",
        "            char_count = len(self.extracted_english_text)\n",
        "            unique_words = len(set(words))\n",
        "\n",
        "            print(\"TEXT ANALYSIS\")\n",
        "            print(\"=\" * 50)\n",
        "            print(f\"Total words: {word_count}\")\n",
        "            print(f\"Total characters: {char_count}\")\n",
        "            print(f\"Unique words: {unique_words}\")\n",
        "            print(f\"Average word length: {char_count/word_count:.1f} characters\")\n",
        "\n",
        "            word_freq = {}\n",
        "            for word in words:\n",
        "                clean_word = word.lower().strip('.,!?;:')\n",
        "                if clean_word:\n",
        "                    word_freq[clean_word] = word_freq.get(clean_word, 0) + 1\n",
        "\n",
        "            sorted_words = sorted(word_freq.items(), key=lambda x: x[1], reverse=True)[:5]\n",
        "            print(f\"\\nTop 5 Frequent Words:\")\n",
        "            for word, freq in sorted_words:\n",
        "                in_dict = \"✓\" if word in self.translation_dict else \"✗\"\n",
        "                print(f\"  {in_dict} '{word}': {freq} times\")\n",
        "\n",
        "            words_in_dict = sum(1 for word in words\n",
        "                              if ''.join(char for char in word if char.isalnum()).lower() in self.translation_dict)\n",
        "            coverage = (words_in_dict / word_count) * 100 if word_count > 0 else 0\n",
        "            print(f\"\\nDictionary Coverage for this text: {coverage:.1f}%\")\n",
        "\n",
        "    def on_dictionary(self, btn):\n",
        "        \"\"\"Show translation dictionary\"\"\"\n",
        "        self.status_output.clear_output()\n",
        "        with self.status_output:\n",
        "            print(\"TRANSLATION DICTIONARY\")\n",
        "            print(\"=\" * 50)\n",
        "            print(f\"Total words: {len(self.translation_dict)}\")\n",
        "            print(f\"Source: _english_.txt & _french_.txt files\")\n",
        "\n",
        "            sorted_dict = sorted(self.translation_dict.items())\n",
        "            print(\"\\nDictionary Entries (A-Z):\")\n",
        "            print(\"-\" * 40)\n",
        "\n",
        "            for i in range(0, min(20, len(sorted_dict)), 2):\n",
        "                line = \"\"\n",
        "                if i < len(sorted_dict):\n",
        "                    eng1, fr1 = sorted_dict[i]\n",
        "                    line += f\"• {eng1:12} → {fr1:15}\"\n",
        "                if i + 1 < len(sorted_dict):\n",
        "                    eng2, fr2 = sorted_dict[i + 1]\n",
        "                    line += f\"   • {eng2:12} → {fr2:15}\"\n",
        "                print(line)\n",
        "\n",
        "            if len(self.translation_dict) > 20:\n",
        "                print(f\"\\n... and {len(self.translation_dict) - 20} more words\")\n",
        "\n",
        "    def is_english_text(self, text):\n",
        "        \"\"\"Basic check if text appears to be English\"\"\"\n",
        "        clean_text = ''.join(char for char in text if char.isalnum() or char.isspace()).lower()\n",
        "\n",
        "        if not clean_text.strip():\n",
        "            return False\n",
        "\n",
        "        common_english_words = ['the', 'and', 'is', 'in', 'to', 'of', 'a', 'for', 'on', 'with', 'by']\n",
        "        words = clean_text.split()\n",
        "\n",
        "        if len(words) == 0:\n",
        "            return False\n",
        "\n",
        "        for word in words:\n",
        "            if word in common_english_words:\n",
        "                return True\n",
        "\n",
        "        dict_words_found = sum(1 for word in words\n",
        "                             if ''.join(char for char in word if char.isalnum()).lower() in self.translation_dict)\n",
        "        if dict_words_found > 0:\n",
        "            return True\n",
        "\n",
        "        alpha_count = sum(1 for char in clean_text if char.isalpha())\n",
        "        total_chars = len(clean_text)\n",
        "\n",
        "        if total_chars > 0 and alpha_count / total_chars > 0.7:\n",
        "            return True\n",
        "\n",
        "        return len(clean_text) > 2\n",
        "\n",
        "    def update_status(self, message):\n",
        "        \"\"\"Update status output\"\"\"\n",
        "        self.status_output.clear_output()\n",
        "        with self.status_output:\n",
        "            print(f\"{message}\")\n",
        "\n",
        "# Main execution\n",
        "print(\"Starting Translation from image with Your Dictionary Files...\")\n",
        "\n",
        "# Create and display the application\n",
        "translator_app = ColabImageTextTranslator()"
      ],
      "metadata": {},
      "execution_count": 2,
      "outputs": [
        {
          "output_type": "stream",
          "name": "stderr",
          "text": [
            "WARNING:easyocr.easyocr:Neither CUDA nor MPS are available - defaulting to CPU. Note: This module is much faster with a GPU.\n",
            "WARNING:easyocr.easyocr:Downloading detection model, please wait. This may take several minutes depending upon your network connection.\n"
          ]
        },
        {
          "output_type": "stream",
          "name": "stdout",
          "text": [
            "Starting Translation from image with Your Dictionary Files...\n",
            "Translation dictionary loaded with 62 words from text files\n",
            "Words are loaded:\n",
            "   hello → bonjour\n",
            "   world → monde\n",
            "   good → bon\n",
            "   morning → matin\n",
            "   evening → soir\n",
            "Initializing EasyOCR reader...\n",
            "Progress: |██████████████████████████████████████████████████| 100.0% Complete"
          ]
        },
        {
          "output_type": "stream",
          "name": "stderr",
          "text": [
            "WARNING:easyocr.easyocr:Downloading recognition model, please wait. This may take several minutes depending upon your network connection.\n"
          ]
        },
        {
          "output_type": "stream",
          "name": "stdout",
          "text": [
            "Progress: |██████████████████████████████████████████████████| 100.0% CompleteML Text Recognition model ready (EasyOCR)\n"
          ]
        },
        {
          "output_type": "display_data",
          "data": {
            "text/plain": [
              "HTML(value=\"<h1 style='color: #2E86AB; text-align: center;'>Translation from Image - English to French</h1>\")"
            ],
            "application/vnd.jupyter.widget-view+json": {
              "version_major": 2,
              "version_minor": 0,
              "model_id": "86b1a11b87664ffa8b0436abfcf802c1"
            }
          },
          "metadata": {}
        },
        {
          "output_type": "display_data",
          "data": {
            "text/plain": [
              "HTML(value='<h3>Upload Image</h3>')"
            ],
            "application/vnd.jupyter.widget-view+json": {
              "version_major": 2,
              "version_minor": 0,
              "model_id": "b551d86cc9eb4fc9ac10c08f97bac0bd"
            }
          },
          "metadata": {}
        },
        {
          "output_type": "display_data",
          "data": {
            "text/plain": [
              "FileUpload(value={}, accept='image/*', description='Upload Image')"
            ],
            "application/vnd.jupyter.widget-view+json": {
              "version_major": 2,
              "version_minor": 0,
              "model_id": "3773239f154442559567a6ec0077ae24"
            }
          },
          "metadata": {}
        },
        {
          "output_type": "display_data",
          "data": {
            "text/plain": [
              "HTML(value='<h3>Image Preview</h3>')"
            ],
            "application/vnd.jupyter.widget-view+json": {
              "version_major": 2,
              "version_minor": 0,
              "model_id": "22b5e3bb6ca342109a9b0ddbe7e572d4"
            }
          },
          "metadata": {}
        },
        {
          "output_type": "display_data",
          "data": {
            "text/plain": [
              "Output()"
            ],
            "application/vnd.jupyter.widget-view+json": {
              "version_major": 2,
              "version_minor": 0,
              "model_id": "4ef5a3bac3654b479802d733822222ae"
            }
          },
          "metadata": {}
        },
        {
          "output_type": "display_data",
          "data": {
            "text/plain": [
              "HTML(value='<h3>Processing</h3>')"
            ],
            "application/vnd.jupyter.widget-view+json": {
              "version_major": 2,
              "version_minor": 0,
              "model_id": "85c97414159b4e23a4064f5939fe2367"
            }
          },
          "metadata": {}
        },
        {
          "output_type": "display_data",
          "data": {
            "text/plain": [
              "HBox(children=(Button(description='Extract Text', style=ButtonStyle()), Button(description='Translate', style=…"
            ],
            "application/vnd.jupyter.widget-view+json": {
              "version_major": 2,
              "version_minor": 0,
              "model_id": "33af7db496c04b3f83e5756dd16a6430"
            }
          },
          "metadata": {}
        },
        {
          "output_type": "display_data",
          "data": {
            "text/plain": [
              "HTML(value='<h3>Results</h3>')"
            ],
            "application/vnd.jupyter.widget-view+json": {
              "version_major": 2,
              "version_minor": 0,
              "model_id": "60267d6221d64236aee2f011666ac446"
            }
          },
          "metadata": {}
        },
        {
          "output_type": "display_data",
          "data": {
            "text/plain": [
              "HTML(value='<h4>Extracted English Text:</h4>')"
            ],
            "application/vnd.jupyter.widget-view+json": {
              "version_major": 2,
              "version_minor": 0,
              "model_id": "42354e809f1345e1a047ddf124c95f52"
            }
          },
          "metadata": {}
        },
        {
          "output_type": "display_data",
          "data": {
            "text/plain": [
              "Output()"
            ],
            "application/vnd.jupyter.widget-view+json": {
              "version_major": 2,
              "version_minor": 0,
              "model_id": "c55c59f6d727434c86544118ffd11840"
            }
          },
          "metadata": {}
        },
        {
          "output_type": "display_data",
          "data": {
            "text/plain": [
              "HTML(value='<h4>Translated French Text:</h4>')"
            ],
            "application/vnd.jupyter.widget-view+json": {
              "version_major": 2,
              "version_minor": 0,
              "model_id": "3579697c1dd74c308024cb4b81c2b06f"
            }
          },
          "metadata": {}
        },
        {
          "output_type": "display_data",
          "data": {
            "text/plain": [
              "Output()"
            ],
            "application/vnd.jupyter.widget-view+json": {
              "version_major": 2,
              "version_minor": 0,
              "model_id": "fd93b00008914ca29730aa2861d13baa"
            }
          },
          "metadata": {}
        },
        {
          "output_type": "display_data",
          "data": {
            "text/plain": [
              "HTML(value='<h3>Additional Features</h3>')"
            ],
            "application/vnd.jupyter.widget-view+json": {
              "version_major": 2,
              "version_minor": 0,
              "model_id": "f3ed4c3c7b184d6ca6ebf3c8a3a5592b"
            }
          },
          "metadata": {}
        },
        {
          "output_type": "display_data",
          "data": {
            "text/plain": [
              "HBox(children=(Button(description='Show Analysis', style=ButtonStyle()), Button(description='View Dictionary',…"
            ],
            "application/vnd.jupyter.widget-view+json": {
              "version_major": 2,
              "version_minor": 0,
              "model_id": "6fddc823afd644b09abfd3a6422a78df"
            }
          },
          "metadata": {}
        },
        {
          "output_type": "display_data",
          "data": {
            "text/plain": [
              "HTML(value='<h4>Status:</h4>')"
            ],
            "application/vnd.jupyter.widget-view+json": {
              "version_major": 2,
              "version_minor": 0,
              "model_id": "500f539eb10b4c5ba82497193a796f2e"
            }
          },
          "metadata": {}
        },
        {
          "output_type": "display_data",
          "data": {
            "text/plain": [
              "Output()"
            ],
            "application/vnd.jupyter.widget-view+json": {
              "version_major": 2,
              "version_minor": 0,
              "model_id": "22e7e14880a941c39ba6d92765a42b1d"
            }
          },
          "metadata": {}
        },
        {
          "output_type": "stream",
          "name": "stdout",
          "text": [
            "Translation from Image initialized successfully!\n"
          ]
        }
      ]
    }
  ]
}